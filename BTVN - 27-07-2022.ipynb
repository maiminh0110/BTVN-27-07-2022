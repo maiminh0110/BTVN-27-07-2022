{
 "cells": [
  {
   "cell_type": "code",
   "execution_count": 1,
   "id": "edb3e0cd",
   "metadata": {},
   "outputs": [
    {
     "name": "stdout",
     "output_type": "stream",
     "text": [
      "nhập số điện: 250\n",
      "\n",
      "Tiền điện 1 tháng là: 498800\n"
     ]
    }
   ],
   "source": [
    "#Bài 1: Viết phần mềm tính giá tiền điện của các hộ người dùng.\n",
    "#Biết giá cước tiền điện năm 2022 được tính như sau: \n",
    "#Dưới 50 số thì giá cước là 1678đ/1 số, \n",
    "#từ số 51 đến số 100 với 1734 đ/số, \n",
    "#từ 101 đến 200 với 2014đ/số, \n",
    "#từ 201 đến 300 với 2536đ/số, \n",
    "#từ 301 đến 400 với 2834đ/số, \n",
    "#từ 401 trở đi với 2927đ/số. N\n",
    "#hập vào số điện tiêu dùng trong tháng của một hộ gia đình. \n",
    "#Tính số tiền phải đóng trong tháng đó căn cứ vào giá cước ở trên.\n",
    "\n",
    "\n",
    "\n",
    "sodien = int(input(\"nhập số điện: \"))\n",
    "\n",
    "if 0<= sodien <= 50: \n",
    "    tiendien = sodien*1678\n",
    "elif 50< sodien <=100: \n",
    "    tiendien = 50*1678 + (sodien - 50)*1734\n",
    "elif 100< sodien <= 200:\n",
    "    tiendien = 50*1678 + 50*1734 + (sodien - 100)*2014\n",
    "elif 200< sodien <= 300: \n",
    "    tiendien = 50*1678 + 50*1734 + 100*2014 + (sodien - 200)*2536\n",
    "elif 300< sodien <= 400: \n",
    "    tiendien = 50*1678 + 50*1734 + 100*2014 + 100*2536 + (sodien - 300)*2834\n",
    "elif 400< sodien:\n",
    "    tiendien = 50*1678 + 50*1734 + 100*2014 + 100*2536 + 100*2834 + (sodien - 400)*2927\n",
    "else: \n",
    "    tiendien = \"Error\"\n",
    "\n",
    "    \n",
    "print(\"\\nTiền điện 1 tháng là: {}\".format(tiendien))"
   ]
  },
  {
   "cell_type": "code",
   "execution_count": 25,
   "id": "25e9ec9d",
   "metadata": {},
   "outputs": [
    {
     "name": "stdout",
     "output_type": "stream",
     "text": [
      "nhập hệ số bậc 2: 1\n",
      "nhập hệ số bậc 1: 1\n",
      "nhập tham số: 0\n",
      "\n",
      "Ta có phương trình: x^2 + x = 0\n"
     ]
    }
   ],
   "source": [
    "#Bài 2: Nhập a, b, c là hệ số của một đa thức bậc 2. \n",
    "#In ra phương trình bậc 2 dưới dạng chuẩn \n",
    "#(dạng chuẩn có nghĩa là tự nhiên như khi viết tay đa thức ra giấy hoặc bảng). \n",
    "#Các hệ số 1, -1 thì không in hệ số, 0 thì không in  bậc đó. \n",
    "#Ví dụ: a = 1, b = -3, c= 0 thì in ra là x^2 – 3x.\n",
    "\n",
    "a = int(input(\"nhập hệ số bậc 2: \"))\n",
    "b = int(input(\"nhập hệ số bậc 1: \"))\n",
    "c = int(input(\"nhập tham số: \"))\n",
    "x = 1\n",
    "y = 1\n",
    "t = 1\n",
    "\n",
    "if a==0 or b==0: \n",
    "    if a==0 and b==0 and c==0: \n",
    "        print(\"\\nKhông có phương trình\")\n",
    "    if a==0 and b==0 and c!=0: \n",
    "        print(\"\\nTa có phương trình {} = 0\".format(c))\n",
    "        \n",
    "if a==0 and b!=0:\n",
    "    if b>0: \n",
    "        y = \" + \"\n",
    "    if b<0:\n",
    "        y = \" - \"\n",
    "    if b == 1: \n",
    "        b=\"\"\n",
    "    if c>0: \n",
    "        t = \" + \"\n",
    "    if c<0:\n",
    "        t = \" - \"  \n",
    "    if c==0: \n",
    "        c = \"\"\n",
    "        t = \"\"   \n",
    "    print(\"\\nTa có phương trình {}x{}{} = 0\".format(b, t, c))\n",
    "    \n",
    "if a!=0 and b==0 :\n",
    "    if a == 1: \n",
    "        a=\"\"\n",
    "    if c>0: \n",
    "        t = \" + \"\n",
    "    if c<0:\n",
    "        t = \" - \" \n",
    "    if c==0: \n",
    "        t = \"\"\n",
    "        c = \"\"\n",
    "    print(\"\\nTa có phương trình {}x^2{}{} = 0\".format(a, t, c))\n",
    "    \n",
    "if a!=0 and b!=0: \n",
    "    if b>0 and b!=1:\n",
    "        y = \" + \"\n",
    "    if b<0: \n",
    "        y = \" - \"\n",
    "    if c>0:\n",
    "        t = \" + \"\n",
    "    if c<0: \n",
    "        t = \" - \"     \n",
    "    if c==0: \n",
    "        c = \"\"\n",
    "        t = \"\"\n",
    "    if a == 1 or b == 1: \n",
    "        if a == 1: \n",
    "            a = \"\"\n",
    "        if b == 1: \n",
    "            b = \"\"\n",
    "            y = \" + \"\n",
    "    print(\"\\nTa có phương trình: {}x^2{}{}x{}{} = 0\".format(a, y, b, t, c))\n",
    "\n",
    "\n",
    "\n"
   ]
  },
  {
   "cell_type": "code",
   "execution_count": null,
   "id": "7b888627",
   "metadata": {},
   "outputs": [],
   "source": []
  },
  {
   "cell_type": "code",
   "execution_count": null,
   "id": "2816d234",
   "metadata": {},
   "outputs": [],
   "source": []
  }
 ],
 "metadata": {
  "kernelspec": {
   "display_name": "Python 3 (ipykernel)",
   "language": "python",
   "name": "python3"
  },
  "language_info": {
   "codemirror_mode": {
    "name": "ipython",
    "version": 3
   },
   "file_extension": ".py",
   "mimetype": "text/x-python",
   "name": "python",
   "nbconvert_exporter": "python",
   "pygments_lexer": "ipython3",
   "version": "3.9.12"
  }
 },
 "nbformat": 4,
 "nbformat_minor": 5
}
